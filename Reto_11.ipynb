{
  "nbformat": 4,
  "nbformat_minor": 0,
  "metadata": {
    "colab": {
      "provenance": []
    },
    "kernelspec": {
      "name": "python3",
      "display_name": "Python 3"
    },
    "language_info": {
      "name": "python"
    }
  },
  "cells": [
    {
      "cell_type": "markdown",
      "source": [
        "##**Punto 1:**"
      ],
      "metadata": {
        "id": "lgIhQFbwmcQU"
      }
    },
    {
      "cell_type": "markdown",
      "source": [
        "**Enunciado:** Desarrolle un programa que permita realizar la suma/resta de matrices. El programa debe validar las condiciones necesarias para ejecutar la operación."
      ],
      "metadata": {
        "id": "wwoC5TX4mgIL"
      }
    },
    {
      "cell_type": "code",
      "execution_count": null,
      "metadata": {
        "id": "_MASR-uQmXge",
        "colab": {
          "base_uri": "https://localhost:8080/"
        },
        "outputId": "797b5672-14cf-4dd5-fde2-24d2dde1de0c"
      },
      "outputs": [
        {
          "output_type": "stream",
          "name": "stdout",
          "text": [
            "Para la primera matriz: \n",
            "Ingrese el número de filas: 2\n",
            "Ingrese el número de columnas: 2\n",
            "--------------------------------------------\n",
            "Ingrese el valor de la fila 0: 3\n",
            "Ingrese el valor de la fila 0: 2\n",
            "Ingrese el valor de la fila 1: 3\n",
            "Ingrese el valor de la fila 1: 5\n",
            "--------------------------------------------\n",
            "Para la segunda matriz: \n",
            "Ingrese el número de filas: 2\n",
            "Ingrese el número de columnas: 2\n",
            "--------------------------------------------\n",
            "Ingrese el valor de la fila 0: 6\n",
            "Ingrese el valor de la fila 0: 4\n",
            "Ingrese el valor de la fila 1: 8\n",
            "Ingrese el valor de la fila 1: 9\n",
            "--------------------------------------------\n",
            "Matriz #1\n",
            "[3, 2]\n",
            "[3, 5]\n",
            "--------------------------------------------\n",
            "Matriz #2\n",
            "[6, 4]\n",
            "[8, 9]\n",
            "Ingrese suma si desea sumar las matrices o resta si desea restar las matrices: resta\n",
            "--------------------------------------------\n",
            "Resultado de la resta de las matrices\n",
            "[-3, -2]\n",
            "[-5, -4]\n"
          ]
        }
      ],
      "source": [
        "def CrearMatriz(matriz_1, matriz_2):                                           # Para que el usuario cree la matriz\n",
        "\n",
        "  print(\"Para la primera matriz: \")\n",
        "\n",
        "  fila=[]\n",
        "  filas=int(input(\"Ingrese el número de filas: \"))                             # Ingresar el número de filas que quiere\n",
        "  columnas=int(input(\"Ingrese el número de columnas: \"))                       # Ingresar el número de columnas que quiere\n",
        "  print(\"--------------------------------------------\")\n",
        "  for i in range(filas):                                                       # Para ir creando cada fila\n",
        "    for j in range(columnas):                                                  # Para añadir los valores de la fila (cada columna)\n",
        "      valor=int(input(\"Ingrese el valor de la fila \" + str(i) + \": \"))\n",
        "      fila.append(valor)                                                       # Se añade el valor a la fila\n",
        "    matriz_1.append(fila)                                                      # Se añade la fila terminada a la matriz\n",
        "    fila=[]                                                                    # Se deja vacía la fila para seguir con las demás\n",
        "  print(\"--------------------------------------------\")\n",
        "\n",
        "  print(\"Para la segunda matriz: \")\n",
        "\n",
        "  fila_2=[]\n",
        "  filas_2=int(input(\"Ingrese el número de filas: \"))                           # Ingresar el número de filas que quiere\n",
        "  columnas_2=int(input(\"Ingrese el número de columnas: \"))                     # Ingresar el número de columnas que quiere\n",
        "  print(\"--------------------------------------------\")\n",
        "  for i in range(filas_2):                                                     # Para ir creando cada fila\n",
        "    for j in range(columnas_2):                                                # Para añadir los valores de la fila (cada columna)\n",
        "      valor_2=int(input(\"Ingrese el valor de la fila \" + str(i) + \": \"))\n",
        "      fila_2.append(valor_2)                                                   # Se añade el valor a la fila\n",
        "    matriz_2.append(fila_2)                                                    # Se añade la fila terminada a la matriz\n",
        "    fila_2=[]                                                                  # Se deja vacía la fila para seguir con las demás\n",
        "  print(\"--------------------------------------------\")\n",
        "  print(\"Matriz #1\")\n",
        "  for k in range(len(matriz_1)):                                               # Para imprimir la primera matriz con forma de matriz ;)\n",
        "    print(matriz_1[k])\n",
        "  print(\"--------------------------------------------\")\n",
        "  print(\"Matriz #2\")\n",
        "  for k in range(len(matriz_2)):                                               # Para imprimir la segunda matriz con forma de matriz ;)\n",
        "    print(matriz_2[k])\n",
        "\n",
        "  if filas!=filas_2 and columnas!=columnas_2:                                  # Mirar si se pueden sumar o restar\n",
        "    print(\"Las matrices no cumplen con las condiciones para realizar la operación\")\n",
        "  else:                                                                        # La opración que quiera hacer el usuario\n",
        "    operacion=str(input(\"Ingrese 'sumar' si desea sumar las matrices o 'restar' si desea restar las matrices: \"))\n",
        "    if operacion==\"sumar\":                                                        # Para llamar la función suma\n",
        "     Suma(matriz_1, matriz_2, resultado_matriz)\n",
        "    elif operacion==\"restar\":                                                     # Para llamar la función suma\n",
        "     Resta(matriz_1, matriz_2, resultado_matriz)\n",
        "\n",
        "def Suma(matriz_1, matriz_2, resultado_matriz):                                # Se crea la función de la suma\n",
        "  fila_sumada=[]                                                               # Para ir añadiendo las nuevas filas con los resultados sumados\n",
        "  for i in range(len(matriz_1)):                                               # Para que vaya tomando cada fila\n",
        "    fila_sumada = []                                                           # Para que no se acumulen los valores que se van sumando de las nuevas filas\n",
        "    for j in range(len(matriz_1[0])):                                          # Para tomar la posición cada elemento\n",
        "      suma = matriz_1[i][j] + matriz_2[i][j]                                   # Para tomar los números de las mismas coordenadas en cada matriz y sumarlas\n",
        "      fila_sumada.append(suma)                                                 # Añadir la suma a la nueva fila de la matriz sumada\n",
        "    resultado_matriz.append(fila_sumada)                                       # Añadir la fila terminada a la matriz resultante\n",
        "  print(\"--------------------------------------------\")\n",
        "  print(\"Resultado de la suma de las matrices\")\n",
        "  for k in range(len(resultado_matriz)):                                       # Para imprimir la primera matriz con forma de matriz ;)\n",
        "    print(resultado_matriz[k])\n",
        "\n",
        "def Resta(matriz_1, matriz_2, resultadi_matriz):                               # Se crea la función de la resta\n",
        "  fila_restada=[]                                                              # Para ir añadiendo las nuevas filas con los resultados restados\n",
        "  for i in range(len(matriz_1)):                                               # Para que vaya tomando cada fila\n",
        "    fila_restada = []                                                          # Para que no se acumulen los valores que se van restando de las nuevas filas\n",
        "    for j in range(len(matriz_1[0])):                                          # Para tomar la posición cada elemento\n",
        "      resta = matriz_1[i][j] - matriz_2[i][j]                                  # Para tomar los números de las mismas coordenadas en cada matriz y restarla\n",
        "      fila_restada.append(resta)                                               # Añadir la resta a la nueva fila de la matriz restada\n",
        "    resultado_matriz.append(fila_restada)                                      # Añadir la fila terminada a la matriz resultante\n",
        "\n",
        "  print(\"--------------------------------------------\")\n",
        "  print(\"Resultado de la resta de las matrices\")\n",
        "  for k in range(len(resultado_matriz)):                                       # Para imprimir la primera matriz con forma de matriz ;)\n",
        "    print(resultado_matriz[k])\n",
        "\n",
        "if __name__ == \"__main__\":\n",
        "  matriz_1=[]                                                                  # Se crea la matriz vacía\n",
        "  matriz_2=[]                                                                  # Se crea la matriz vacía\n",
        "  resultado_matriz=[]                                                          # El resultado de la operacion\n",
        "  CrearMatriz(matriz_1, matriz_2)                                              # Se llama la función para crear la matriz1"
      ]
    },
    {
      "cell_type": "markdown",
      "source": [
        "##**Punto 2:**"
      ],
      "metadata": {
        "id": "eBKOvcRMmlGr"
      }
    },
    {
      "cell_type": "markdown",
      "source": [
        "**Enunciado:** Desarrolle un programa que permita realizar el producto de matrices. El programa debe validar las condiciones necesarias para ejecutar la operación."
      ],
      "metadata": {
        "id": "IUMxoufXmtsL"
      }
    },
    {
      "cell_type": "code",
      "source": [
        "def CrearMatriz(matriz_1, matriz_2):                                           # Para que el usuario cree la matriz\n",
        "\n",
        "  print(\"Para la primera matriz: \")\n",
        "\n",
        "  fila=[]\n",
        "  filas=int(input(\"Ingrese el número de filas: \"))                             # Ingresar el número de filas que quiere\n",
        "  columnas=int(input(\"Ingrese el número de columnas: \"))                       # Ingresar el número de columnas que quiere\n",
        "  print(\"--------------------------------------------\")\n",
        "  for i in range(filas):                                                       # Para ir creando cada fila\n",
        "    for j in range(columnas):                                                  # Para añadir los valores de la fila (cada columna)\n",
        "      valor=int(input(\"Ingrese el valor de la fila \" + str(i) + \": \"))\n",
        "      fila.append(valor)                                                       # Se añade el valor a la fila\n",
        "    matriz_1.append(fila)                                                      # Se añade la fila terminada a la matriz\n",
        "    fila=[]                                                                    # Se deja vacía la fila para seguir con las demás\n",
        "  print(\"--------------------------------------------\")\n",
        "\n",
        "  print(\"Para la segunda matriz: \")\n",
        "\n",
        "  fila_2=[]\n",
        "  filas_2=int(input(\"Ingrese el número de filas: \"))                           # Ingresar el número de filas que quiere\n",
        "  columnas_2=int(input(\"Ingrese el número de columnas: \"))                     # Ingresar el número de columnas que quiere\n",
        "  print(\"--------------------------------------------\")\n",
        "  for i in range(filas_2):                                                     # Para ir creando cada fila\n",
        "    for j in range(columnas_2):                                                # Para añadir los valores de la fila (cada columna)\n",
        "      valor_2=int(input(\"Ingrese el valor de la fila \" + str(i) + \": \"))\n",
        "      fila_2.append(valor_2)                                                   # Se añade el valor a la fila\n",
        "    matriz_2.append(fila_2)                                                    # Se añade la fila terminada a la matriz\n",
        "    fila_2=[]                                                                  # Se deja vacía la fila para seguir con las demás\n",
        "  print(\"--------------------------------------------\")\n",
        "  print(\"Matriz #1\")\n",
        "  for k in range(len(matriz_1)):                                               # Para imprimir la primera matriz con forma de matriz ;)\n",
        "    print(matriz_1[k])\n",
        "  print(\"--------------------------------------------\")\n",
        "  print(\"Matriz #2\")\n",
        "  for k in range(len(matriz_2)):                                               # Para imprimir la segunda matriz con forma de matriz ;)\n",
        "    print(matriz_2[k])\n",
        "\n",
        "  if columnas!=filas_2:                                                        # Mirar si se puede realizar el producto\n",
        "    print(\"Las matrices no cumplen con las condiciones para realizar la operación\")\n",
        "  else:\n",
        "    Producto(matriz_1, matriz_2, matriz_producto)\n",
        "\n",
        "def Producto(matriz_1, matriz_2, matriz_producto):\n",
        "  for i in range(len(matriz_1)):\n",
        "    fila = []\n",
        "    for j in range(len(matriz_2[0])):\n",
        "      fila.append(0)\n",
        "    matriz_producto.append(fila)\n",
        "\n",
        "  for i in range(len(matriz_1)):\n",
        "    for j in range(len(matriz_2[0])):\n",
        "      for k in range(len(matriz_1[0])):\n",
        "        matriz_producto[i][j] += matriz_1[i][k] * matriz_2[k][j]\n",
        "\n",
        "  print(\"--------------------------------------------\")\n",
        "  print(\"Matriz producto\")\n",
        "  for m in range(len(matriz_producto)):                                        # Para imprimir la segunda matriz con forma de matriz ;)\n",
        "    print(matriz_producto[m])\n",
        "\n",
        "if __name__ == \"__main__\":\n",
        "  matriz_1=[]                                                                  # Se crea la matriz vacía\n",
        "  matriz_2=[]                                                                  # Se crea la matriz vacía\n",
        "  matriz_producto = []                                                         # El resultado de la operacion\n",
        "  CrearMatriz(matriz_1, matriz_2)                                              # Se llama la función para crear la matriz"
      ],
      "metadata": {
        "id": "DOK05Z5kmzG6",
        "colab": {
          "base_uri": "https://localhost:8080/"
        },
        "outputId": "1402a51a-5849-4c89-8f2c-804b4c39daa3"
      },
      "execution_count": null,
      "outputs": [
        {
          "output_type": "stream",
          "name": "stdout",
          "text": [
            "Para la primera matriz: \n",
            "Ingrese el número de filas: 2\n",
            "Ingrese el número de columnas: 3\n",
            "--------------------------------------------\n",
            "Ingrese el valor de la fila 0: 2\n",
            "Ingrese el valor de la fila 0: 2\n",
            "Ingrese el valor de la fila 0: 2\n",
            "Ingrese el valor de la fila 1: 1\n",
            "Ingrese el valor de la fila 1: 1\n",
            "Ingrese el valor de la fila 1: 1\n",
            "--------------------------------------------\n",
            "Para la segunda matriz: \n",
            "Ingrese el número de filas: 3\n",
            "Ingrese el número de columnas: 4\n",
            "--------------------------------------------\n",
            "Ingrese el valor de la fila 0: 3\n",
            "Ingrese el valor de la fila 0: 3\n",
            "Ingrese el valor de la fila 0: 3\n",
            "Ingrese el valor de la fila 0: 3\n",
            "Ingrese el valor de la fila 1: 4\n",
            "Ingrese el valor de la fila 1: 4\n",
            "Ingrese el valor de la fila 1: 4\n",
            "Ingrese el valor de la fila 1: 4\n",
            "Ingrese el valor de la fila 2: 5\n",
            "Ingrese el valor de la fila 2: 5\n",
            "Ingrese el valor de la fila 2: 5\n",
            "Ingrese el valor de la fila 2: 5\n",
            "--------------------------------------------\n",
            "Matriz #1\n",
            "[2, 2, 2]\n",
            "[1, 1, 1]\n",
            "--------------------------------------------\n",
            "Matriz #2\n",
            "[3, 3, 3, 3]\n",
            "[4, 4, 4, 4]\n",
            "[5, 5, 5, 5]\n",
            "--------------------------------------------\n",
            "Matriz producto\n",
            "[24, 24, 24, 24]\n",
            "[12, 12, 12, 12]\n"
          ]
        }
      ]
    },
    {
      "cell_type": "markdown",
      "source": [
        "##**Punto 3:**"
      ],
      "metadata": {
        "id": "Rj4KCqL-mlZj"
      }
    },
    {
      "cell_type": "markdown",
      "source": [
        "**Enunciado:** Desarrolle un programa que permita obtener la matriz transpuesta de una matriz ingresada. El programa debe validar las condiciones necesarias para ejecutar la operación.\n",
        "\n"
      ],
      "metadata": {
        "id": "l7WtAORimuYL"
      }
    },
    {
      "cell_type": "code",
      "source": [
        "def CrearMatriz(matriz):                                                      # Para que el usuario cree la matriz\n",
        "  fila=[]\n",
        "  filas=int(input(\"Ingrese el número de filas: \"))                            # Ingresar el número de filas que quiere\n",
        "  columnas=int(input(\"Ingrese el número de columnas: \"))                      # Ingresar el número de columnas que quiere\n",
        "  print(\"--------------------------------------------\")\n",
        "  for i in range(filas):                                                      # Para ir creando cada fila\n",
        "    for j in range(columnas):                                                 # Para añadir los valores de la fila (cada columna)\n",
        "      valor=int(input(\"Ingrese el valor de la fila \" + str(i) + \": \"))\n",
        "      fila.append(valor)                                                      # Se añade el valor a la fila\n",
        "    matriz.append(fila)                                                       # Se añade la fila terminada a la matriz\n",
        "    fila=[]                                                                   # Se deja vacía la fila para seguir con las demás\n",
        "  print(\"--------------------------------------------\")\n",
        "  print(\"Matriz original\")\n",
        "  for k in range(len(matriz)):                                                # Para imprimir la matriz con forma de matriz ;)\n",
        "    print(matriz[k])\n",
        "\n",
        "def MatrizTranspuesta(matriz, matriz_transpuesta):                            # Función para crear la matriz transpuesta\n",
        "    filas = len(matriz)                                                       # Para definir su tamaño según la original\n",
        "    columnas = len(matriz[0])                                                 # Para definir su tamaño según la original\n",
        "\n",
        "    for j in range(columnas):                                                 # Empieza tomando las columnas\n",
        "        fila_transpuesta = []                                                 # La coloqué aquí para que cuando se repita el for no se acumulen valores\n",
        "        for i in range(filas):                                                # Toma la fila\n",
        "            fila_transpuesta.append(matriz[i][j])                             # Ubica el elemento en esa ubicación \"invertida\"\n",
        "        matriz_transpuesta.append(fila_transpuesta)                           # Se añade la fila que se intercambió\n",
        "\n",
        "    print(\"--------------------------------------------\")\n",
        "    print(\"Matriz transpuesta\")\n",
        "    for k in range(len(matriz_transpuesta)):                                  # Para imprimir la matriz transpuesta con forma de matriz ;)\n",
        "      print(matriz_transpuesta[k])\n",
        "\n",
        "if __name__ == \"__main__\":\n",
        "  matriz=[]\n",
        "  matriz_transpuesta=[]                                                       # Se crea la matriz vacía\n",
        "  CrearMatriz(matriz)                                                         # Se llama la función para crear la matriz\n",
        "  MatrizTranspuesta(matriz, matriz_transpuesta)                               # Se llama la función para la matriz transpuesta"
      ],
      "metadata": {
        "id": "-o6d2I0qm0HL",
        "colab": {
          "base_uri": "https://localhost:8080/"
        },
        "outputId": "82d1b6da-fa3e-4a2d-9bd7-7f00cd22257b"
      },
      "execution_count": null,
      "outputs": [
        {
          "output_type": "stream",
          "name": "stdout",
          "text": [
            "Ingrese el número de filas: 3\n",
            "Ingrese el número de columnas: 3\n",
            "--------------------------------------------\n",
            "Ingrese el valor de la fila 0: 1\n",
            "Ingrese el valor de la fila 0: 2\n",
            "Ingrese el valor de la fila 0: 3\n",
            "Ingrese el valor de la fila 1: 4\n",
            "Ingrese el valor de la fila 1: 5\n",
            "Ingrese el valor de la fila 1: 6\n",
            "Ingrese el valor de la fila 2: 7\n",
            "Ingrese el valor de la fila 2: 8\n",
            "Ingrese el valor de la fila 2: 9\n",
            "--------------------------------------------\n",
            "Matriz original\n",
            "[1, 2, 3]\n",
            "[4, 5, 6]\n",
            "[7, 8, 9]\n",
            "--------------------------------------------\n",
            "Matriz transpuesta\n",
            "[1, 4, 7]\n",
            "[2, 5, 8]\n",
            "[3, 6, 9]\n"
          ]
        }
      ]
    },
    {
      "cell_type": "markdown",
      "source": [
        "##**Punto 4:**"
      ],
      "metadata": {
        "id": "83DoQBJQmluL"
      }
    },
    {
      "cell_type": "markdown",
      "source": [
        "**Enunciado:** Desarrollar un programa que sume los elementos de una columna dada de una matriz."
      ],
      "metadata": {
        "id": "AwPur0Xumu8r"
      }
    },
    {
      "cell_type": "code",
      "source": [
        "def CrearMatriz(matriz):                                                     # Para que el usuario cree la matriz\n",
        "  fila=[]\n",
        "  filas=int(input(\"Ingrese el número de filas: \"))                           # Ingresar el número de filas que quiere\n",
        "  columnas=int(input(\"Ingrese el número de columnas: \"))                     # Ingresar el número de columnas que quiere\n",
        "  print(\"--------------------------------------------\")\n",
        "  for i in range(filas):                                                     # Para ir creando cada fila\n",
        "    for j in range(columnas):                                                # Para añadir los valores de la fila (cada columna)\n",
        "      valor=int(input(\"Ingrese el valor de la fila \" + str(i) + \": \"))\n",
        "      fila.append(valor)                                                     # Se añade el valor a la fila\n",
        "    matriz.append(fila)                                                      # Se añade la fila terminada a la matriz\n",
        "    fila=[]                                                                  # Se deja vacía la fila para seguir con las demás\n",
        "  print(\"--------------------------------------------\")\n",
        "  for k in range(len(matriz)):                                               # Para imprimir la matriz con forma de matriz ;)\n",
        "    print(matriz[k])\n",
        "\n",
        "def SumaColumna(matriz):                                                     # Para sumar las columnas\n",
        "  columna=[]\n",
        "  suma=0\n",
        "  print(\"--------------------------------------------\")\n",
        "  for i in range(len(matriz[0])):                                            # Estoy mirando el número de columnas\n",
        "    for j in matriz:                                                         # Estoy tomando cada fila\n",
        "      elemento=j[i]                                                          # Estoy tomando el valor de cada fila de la misma columna\n",
        "      columna.append(elemento)                                               # Añado el elemento de cada columna a la lista de columna\n",
        "    for k in columna:                                                        # Sumo los elementos de la columna que acabó de identificar\n",
        "      suma+=k\n",
        "    print(\"La suma de la columna \" + str(i) + \" es: \" + str(suma))           # Muestro el resultado de la suma de esa columna\n",
        "    suma=0\n",
        "    columna=[]                                                               # Para que no se acumulen los valores de las demás columnas\n",
        "\n",
        "if __name__ == \"__main__\":\n",
        "  matriz=[]                                                                 # Se crea la matriz vacía\n",
        "  CrearMatriz(matriz)                                                       # Se llama la función para crear la matriz\n",
        "  SumaColumna(matriz)                                                       # Se llama la función para sumar las columnas"
      ],
      "metadata": {
        "id": "bHYA10-_m38L",
        "colab": {
          "base_uri": "https://localhost:8080/"
        },
        "outputId": "3aa078c6-8dfa-4adc-afcc-71196a0b9fd8"
      },
      "execution_count": null,
      "outputs": [
        {
          "output_type": "stream",
          "name": "stdout",
          "text": [
            "Ingrese el número de filas: 3\n",
            "Ingrese el número de columnas: 4\n",
            "--------------------------------------------\n",
            "Ingrese el valor de la fila 0: 1\n",
            "Ingrese el valor de la fila 0: 2\n",
            "Ingrese el valor de la fila 0: 3\n",
            "Ingrese el valor de la fila 0: 4\n",
            "Ingrese el valor de la fila 1: 1\n",
            "Ingrese el valor de la fila 1: 2\n",
            "Ingrese el valor de la fila 1: 3\n",
            "Ingrese el valor de la fila 1: 4\n",
            "Ingrese el valor de la fila 2: 1\n",
            "Ingrese el valor de la fila 2: 2\n",
            "Ingrese el valor de la fila 2: 3\n",
            "Ingrese el valor de la fila 2: 4\n",
            "--------------------------------------------\n",
            "[1, 2, 3, 4]\n",
            "[1, 2, 3, 4]\n",
            "[1, 2, 3, 4]\n",
            "--------------------------------------------\n",
            "La suma de la columna 0 es: 3\n",
            "La suma de la columna 1 es: 6\n",
            "La suma de la columna 2 es: 9\n",
            "La suma de la columna 3 es: 12\n"
          ]
        }
      ]
    },
    {
      "cell_type": "markdown",
      "source": [
        "##**Punto 5:**"
      ],
      "metadata": {
        "id": "q5Ulxn4bmmhr"
      }
    },
    {
      "cell_type": "markdown",
      "source": [
        "**Enunciado:** Desarrollar un programa que sume los elementos de una fila dada de una matriz."
      ],
      "metadata": {
        "id": "n8TFQGJdmvdT"
      }
    },
    {
      "cell_type": "code",
      "source": [
        "def CrearMatriz(matriz):                                                     # Para que el usuario cree la matriz\n",
        "  fila=[]\n",
        "  filas=int(input(\"Ingrese el número de filas: \"))                           # Ingresar el número de filas que quiere\n",
        "  columnas=int(input(\"Ingrese el número de columnas: \"))                     # Ingresar el número de columnas que quiere\n",
        "  print(\"--------------------------------------------\")\n",
        "  for i in range(filas):                                                     # Para ir creando cada fila\n",
        "    for j in range(columnas):                                                # Para añadir los valores de la fila (cada columna)\n",
        "      valor=int(input(\"Ingrese el valor de la fila \" + str(i) + \": \"))\n",
        "      fila.append(valor)                                                     # Se añade el valor a la fila\n",
        "    matriz.append(fila)                                                      # Se añade la fila terminada a la matriz\n",
        "    fila=[]                                                                  # Se deja vacía la fila para seguir con las demás\n",
        "  print(\"--------------------------------------------\")\n",
        "  for k in range(len(matriz)):                                               # Para imprimir la matriz con forma de matriz ;)\n",
        "    print(matriz[k])\n",
        "\n",
        "def SumaFila(matriz):                                                        # Para la suma de las filas\n",
        "  suma=0\n",
        "  print(\"--------------------------------------------\")\n",
        "  for i in matriz:                                                           # Selecciona la fila de la matriz\n",
        "    for j in i:                                                              # Selecciona cada elemento de esa fila\n",
        "      suma+=j                                                                # Suma los elementos\n",
        "    print(\"La suma de la fila \" + str(i) + \" es: \" + str(suma))\n",
        "    suma=0\n",
        "\n",
        "if __name__ == \"__main__\":\n",
        "  matriz=[]                                                                 # Se crea la matriz vacía\n",
        "  CrearMatriz(matriz)                                                       # Se llama la función para crear la matriz\n",
        "  SumaFila(matriz)                                                          # Se llama la función para sumar las filas"
      ],
      "metadata": {
        "colab": {
          "base_uri": "https://localhost:8080/"
        },
        "id": "DjdUwH_MNcGo",
        "outputId": "818a4a9a-0923-4604-d19e-7d84b5acef82"
      },
      "execution_count": null,
      "outputs": [
        {
          "output_type": "stream",
          "name": "stdout",
          "text": [
            "Ingrese el número de filas: 2\n",
            "Ingrese el número de columnas: 4\n",
            "--------------------------------------------\n",
            "Ingrese el valor de la fila 0: 1\n",
            "Ingrese el valor de la fila 0: 1\n",
            "Ingrese el valor de la fila 0: 1\n",
            "Ingrese el valor de la fila 0: 1\n",
            "Ingrese el valor de la fila 1: 2\n",
            "Ingrese el valor de la fila 1: 2\n",
            "Ingrese el valor de la fila 1: 2\n",
            "Ingrese el valor de la fila 1: 2\n",
            "--------------------------------------------\n",
            "[1, 1, 1, 1]\n",
            "[2, 2, 2, 2]\n",
            "--------------------------------------------\n",
            "La suma de la fila [1, 1, 1, 1] es: 4\n",
            "La suma de la fila [2, 2, 2, 2] es: 8\n"
          ]
        }
      ]
    }
  ]
}